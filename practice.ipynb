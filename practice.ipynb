{
 "cells": [
  {
   "cell_type": "code",
   "execution_count": null,
   "metadata": {},
   "outputs": [],
   "source": [
    "import os\n",
    "from dotenv import load_dotenv\n",
    "\n",
    "import textwrap\n",
    "import numpy as np\n",
    "import pandas as pd\n",
    "\n",
    "import google.generativeai as genai\n",
    "\n",
    "from IPython.display import Markdown"
   ]
  },
  {
   "cell_type": "code",
   "execution_count": null,
   "metadata": {},
   "outputs": [],
   "source": [
    "load_dotenv()\n",
    "GOOGLE_API_KEY = os.getenv(\"GEMINI_API_KEY\")\n",
    "# print(GOOGLE_API_KEY)\n",
    "genai.configure(api_key=GOOGLE_API_KEY)"
   ]
  },
  {
   "cell_type": "markdown",
   "metadata": {},
   "source": [
    "### embedding example"
   ]
  },
  {
   "cell_type": "code",
   "execution_count": null,
   "metadata": {},
   "outputs": [],
   "source": [
    "title = \"The next generation of AI for developers and Google Workspace\"\n",
    "sample_text = (\"Title: The next generation of AI for developers and Google Workspace\",)\n",
    "model = 'models/embedding-001'\n",
    "embedding = genai.embed_content(model=model,\n",
    "                                content=sample_text,\n",
    "                                task_type=\"retrieval_document\",\n",
    "                                title=title)\n",
    "print(embedding)\n",
    "print(len(embedding['embedding'][0]))"
   ]
  },
  {
   "cell_type": "markdown",
   "metadata": {},
   "source": [
    "## Extraction of text from PDF file"
   ]
  },
  {
   "cell_type": "code",
   "execution_count": null,
   "metadata": {},
   "outputs": [],
   "source": [
    "from pdfminer.high_level import extract_text\n",
    "\n",
    "text = extract_text(r\"microsoft_annual_report_2022.pdf\")\n",
    "# split after every 5 sentences\n",
    "sentences = text.split(\".\")\n",
    "sentences = [\" \".join(sentences[i:i + 10]).replace('\\n', ' ').strip() for i in range(0, len(sentences), 10)]\n",
    "for i in sentences:\n",
    "    print(i)\n"
   ]
  },
  {
   "cell_type": "code",
   "execution_count": null,
   "metadata": {},
   "outputs": [],
   "source": [
    "\n",
    "documents = []\n",
    "for idx, i in enumerate(sentences):\n",
    "    documents.append({\n",
    "        'title': f\"Document {idx}\",\n",
    "        'content': i\n",
    "    })\n",
    "documents"
   ]
  },
  {
   "cell_type": "code",
   "execution_count": null,
   "metadata": {},
   "outputs": [],
   "source": [
    "df = pd.DataFrame(documents)\n",
    "df.columns = ['Title', 'Text']\n",
    "df"
   ]
  },
  {
   "cell_type": "code",
   "execution_count": 12,
   "metadata": {},
   "outputs": [
    {
     "data": {
      "text/html": [
       "<div>\n",
       "<style scoped>\n",
       "    .dataframe tbody tr th:only-of-type {\n",
       "        vertical-align: middle;\n",
       "    }\n",
       "\n",
       "    .dataframe tbody tr th {\n",
       "        vertical-align: top;\n",
       "    }\n",
       "\n",
       "    .dataframe thead th {\n",
       "        text-align: right;\n",
       "    }\n",
       "</style>\n",
       "<table border=\"1\" class=\"dataframe\">\n",
       "  <thead>\n",
       "    <tr style=\"text-align: right;\">\n",
       "      <th></th>\n",
       "      <th>Title</th>\n",
       "      <th>Text</th>\n",
       "      <th>Embeddings</th>\n",
       "    </tr>\n",
       "  </thead>\n",
       "  <tbody>\n",
       "    <tr>\n",
       "      <th>0</th>\n",
       "      <td>Document 0</td>\n",
       "      <td>Dear shareholders, colleagues, customers, and ...</td>\n",
       "      <td>[0.01836762, -0.0050430307, -0.032029595, 0.01...</td>\n",
       "    </tr>\n",
       "    <tr>\n",
       "      <th>1</th>\n",
       "      <td>Document 1</td>\n",
       "      <td>•  Peace Parks Foundation, a nonprofit helping...</td>\n",
       "      <td>[0.010761021, -0.0089883255, -0.03835591, 0.00...</td>\n",
       "    </tr>\n",
       "    <tr>\n",
       "      <th>2</th>\n",
       "      <td>Document 2</td>\n",
       "      <td>There is no  more powerful input than digital ...</td>\n",
       "      <td>[0.02871501, -0.04330673, -0.015005337, 0.0094...</td>\n",
       "    </tr>\n",
       "    <tr>\n",
       "      <th>3</th>\n",
       "      <td>Document 3</td>\n",
       "      <td>To help address this, we’ve committed to skill...</td>\n",
       "      <td>[0.039082542, -0.0036628272, -0.045578208, -0....</td>\n",
       "    </tr>\n",
       "    <tr>\n",
       "      <th>4</th>\n",
       "      <td>Document 4</td>\n",
       "      <td>Building  on  our  work  in  eight  US  cities...</td>\n",
       "      <td>[0.04055749, -0.030310482, -0.04219523, 0.0252...</td>\n",
       "    </tr>\n",
       "    <tr>\n",
       "      <th>...</th>\n",
       "      <td>...</td>\n",
       "      <td>...</td>\n",
       "      <td>...</td>\n",
       "    </tr>\n",
       "    <tr>\n",
       "      <th>190</th>\n",
       "      <td>Document 190</td>\n",
       "      <td>Compensation Committee   3   Governance and No...</td>\n",
       "      <td>[0.016356546, -0.01140176, -0.053219605, -0.01...</td>\n",
       "    </tr>\n",
       "    <tr>\n",
       "      <th>191</th>\n",
       "      <td>Document 191</td>\n",
       "      <td>m   to  5:00  p m   Pacific  Time  to  answer ...</td>\n",
       "      <td>[-0.024060866, -0.0019965412, -0.024987465, 0....</td>\n",
       "    </tr>\n",
       "    <tr>\n",
       "      <th>192</th>\n",
       "      <td>Document 192</td>\n",
       "      <td>com    Our mailing address is:   Investor Rela...</td>\n",
       "      <td>[-0.019213809, -0.025575353, -0.033646412, -0....</td>\n",
       "    </tr>\n",
       "    <tr>\n",
       "      <th>193</th>\n",
       "      <td>Document 193</td>\n",
       "      <td>You can e-mail the transfer agent at:   web qu...</td>\n",
       "      <td>[0.036572132, -0.039415024, -0.049082648, -0.0...</td>\n",
       "    </tr>\n",
       "    <tr>\n",
       "      <th>194</th>\n",
       "      <td>Document 194</td>\n",
       "      <td>To  meet  the  expectations  of  our  stakehol...</td>\n",
       "      <td>[0.0040562116, -0.048740797, -0.041418735, 0.0...</td>\n",
       "    </tr>\n",
       "  </tbody>\n",
       "</table>\n",
       "<p>195 rows × 3 columns</p>\n",
       "</div>"
      ],
      "text/plain": [
       "            Title                                               Text  \\\n",
       "0      Document 0  Dear shareholders, colleagues, customers, and ...   \n",
       "1      Document 1  •  Peace Parks Foundation, a nonprofit helping...   \n",
       "2      Document 2  There is no  more powerful input than digital ...   \n",
       "3      Document 3  To help address this, we’ve committed to skill...   \n",
       "4      Document 4  Building  on  our  work  in  eight  US  cities...   \n",
       "..            ...                                                ...   \n",
       "190  Document 190  Compensation Committee   3   Governance and No...   \n",
       "191  Document 191  m   to  5:00  p m   Pacific  Time  to  answer ...   \n",
       "192  Document 192  com    Our mailing address is:   Investor Rela...   \n",
       "193  Document 193  You can e-mail the transfer agent at:   web qu...   \n",
       "194  Document 194  To  meet  the  expectations  of  our  stakehol...   \n",
       "\n",
       "                                            Embeddings  \n",
       "0    [0.01836762, -0.0050430307, -0.032029595, 0.01...  \n",
       "1    [0.010761021, -0.0089883255, -0.03835591, 0.00...  \n",
       "2    [0.02871501, -0.04330673, -0.015005337, 0.0094...  \n",
       "3    [0.039082542, -0.0036628272, -0.045578208, -0....  \n",
       "4    [0.04055749, -0.030310482, -0.04219523, 0.0252...  \n",
       "..                                                 ...  \n",
       "190  [0.016356546, -0.01140176, -0.053219605, -0.01...  \n",
       "191  [-0.024060866, -0.0019965412, -0.024987465, 0....  \n",
       "192  [-0.019213809, -0.025575353, -0.033646412, -0....  \n",
       "193  [0.036572132, -0.039415024, -0.049082648, -0.0...  \n",
       "194  [0.0040562116, -0.048740797, -0.041418735, 0.0...  \n",
       "\n",
       "[195 rows x 3 columns]"
      ]
     },
     "execution_count": 12,
     "metadata": {},
     "output_type": "execute_result"
    }
   ],
   "source": [
    "\n",
    "# Get the embeddings of each text and add to an embeddings column in the dataframe\n",
    "def embed_fn(title, text):\n",
    "    return genai.embed_content(\n",
    "            model=model,\n",
    "            content=text,\n",
    "            task_type=\"retrieval_document\",\n",
    "            title=title\n",
    "        )[\"embedding\"]\n",
    "\n",
    "df['Embeddings'] = df.apply(lambda row: embed_fn(row['Title'], row['Text']), axis=1)\n",
    "df"
   ]
  },
  {
   "cell_type": "markdown",
   "metadata": {},
   "source": [
    "# question and its embedding"
   ]
  },
  {
   "cell_type": "code",
   "execution_count": 38,
   "metadata": {},
   "outputs": [
    {
     "name": "stdout",
     "output_type": "stream",
     "text": [
      "{'embedding': [0.026338462, -0.03902819, -0.026654007, 0.05893739, 0.04154411, -0.008128175, 0.02086181, -0.020727564, -0.013477313, 0.05866132, 0.023937695, -0.007590161, 0.000943387, 0.008735923, 0.029846014, -0.031593904, -0.030427873, -0.020761233, 0.013386109, 0.0094904415, 0.009541162, 0.029537184, -0.03450427, 0.0041051004, 0.016275054, -0.040544942, -0.013878575, -0.024039958, -0.009793417, 0.044689167, -0.116188355, 0.037942626, -0.06618022, 0.025099581, 0.020290334, -0.038012784, -0.0056411712, 0.04711495, -0.030590087, 0.034354143, 0.005308312, 0.0010465065, -0.036170084, -0.05421539, -0.018690355, -0.061751604, 0.002567143, 0.029287385, 0.014300767, -0.030870035, 0.013359955, -0.008443386, 0.041010473, -0.0665023, 0.037416387, -0.05978632, 0.012276446, -0.023701891, -0.02734162, 0.01866758, 0.0082044555, 0.012076585, -0.04665521, 0.013096132, 0.022608269, -0.026216261, 0.026026813, 0.020404898, 0.051263086, -0.073517546, -0.019185213, -0.020199236, 0.031766366, -0.009237397, -0.100162074, -0.10165362, -0.033755682, 0.06355544, 0.052733872, 0.02401929, -0.0005857915, -0.024847485, -0.02873901, -0.033531267, -0.010929701, 0.05287829, 0.0028759853, -0.016057841, -0.03337068, 0.061378226, 0.006346441, -0.011479969, -0.0010430719, -0.06254297, 0.010565255, 0.015024387, 0.0067015504, 0.014757212, 0.0075458325, -0.041160714, -0.028723994, -0.023833763, -0.09633845, 0.0234269, 0.032795973, 0.00077222026, -0.023643536, 0.034077555, -0.045573704, 0.04785598, -0.03332819, -0.009629963, -0.013695632, -0.0058784583, 0.04932344, -0.04562937, -0.040427655, 0.09494188, 0.021902224, 0.021116894, 0.033057988, 0.033778746, 0.04911044, 0.020130528, 0.035313997, 0.007220738, -0.0021321573, 0.04610877, 0.12136443, 0.081633225, -0.0045067314, -0.041715324, 0.030529575, 0.038419586, 0.052475236, 0.03795931, 0.0134972995, 0.024671422, 0.030386532, 0.005761737, -0.04987725, 0.0060560624, -0.014867469, 0.028716384, -0.03649131, 0.017682208, -0.0025068729, 0.0026734474, 0.00193137, 0.0029223573, -0.004839333, -0.00019964158, -0.0075517837, 0.020998742, 0.0123951975, -0.0043738643, -0.042216476, 0.024732547, 0.0031232305, -0.021830406, 0.0539327, 0.050215643, 0.005242065, 0.025775645, -0.039615475, -0.04495832, 0.04114283, 0.005630515, -0.023455711, -0.0055113533, 0.012987252, 0.037669893, -0.036714524, -0.013031117, -0.026603332, -0.0513667, 0.0039094416, 0.002724193, -0.012758807, 0.0077087125, 0.005805036, -0.030976318, -0.022552248, 0.013988306, 0.0036666626, -0.022211634, 0.058683306, -0.015399901, -0.027394732, 0.007504321, 0.018088872, -0.044765636, -0.020548573, -0.011985496, 0.0024626737, -0.004217777, -0.016560035, 0.014895861, 0.0010042894, -0.03745309, -0.012813302, 0.022139817, 0.026767153, 0.0074121905, 0.030718096, -0.01081257, 0.060323782, -0.026556633, -0.03507588, 0.029589064, -0.024051117, 0.025694765, -0.05223964, -0.014911565, 0.008043078, 0.03965918, 0.02558887, 0.051430922, -0.02531519, -0.02676099, 0.01995602, 0.008192207, -0.060144197, 0.020404013, -0.0027184805, 0.015249615, -0.008756987, -0.009897325, -0.0006476393, -0.07764087, -0.016822936, 0.04130192, 0.07075285, -0.042446658, 0.05797293, 0.0063830647, 0.008000538, 0.0049737403, -0.042779375, -0.010995122, -0.05787245, -0.0112293465, 0.020060088, 0.0430971, -0.026880348, -0.033652954, -0.013995025, 0.038556676, 0.03466896, 0.05398285, -0.021424228, -0.040520594, 0.013847017, 0.02337903, -0.05748146, 0.034398854, -0.06254028, 0.040248286, -0.025003867, 0.018438812, 0.034230713, -0.02937231, -0.00073783915, 0.044382956, -0.043803457, 0.010721117, 0.011099882, -0.07936019, 0.017035503, 0.042355705, 0.0054612393, -0.04469357, 0.04928982, 0.04919145, -0.007820731, 0.033782523, -0.015636066, 0.03342897, -0.0027915454, -0.036518272, -0.014605455, 0.007690469, -0.005338837, -0.041668206, 0.012435089, -0.06687235, -0.0021455968, 0.0045783194, 0.0062765954, -0.034528416, -0.030125977, -0.023196893, -0.006837541, -0.01976209, -0.03015641, -0.04336064, -0.025753504, 0.028617466, 0.04059291, 0.01028852, 0.0030475517, -0.009441617, 0.0088057425, -0.056041993, 0.038150117, 0.017412711, -0.022600986, -0.025290959, -0.03450025, -0.015495875, -0.014072459, -0.066450916, -0.0024506485, -0.048341442, 0.021224555, 0.095134854, -0.028471066, 0.0017301246, 0.004002527, 0.035078947, -0.0040695, 0.0611196, 0.012941089, -0.0028291354, 0.026986865, 0.038718116, -0.02438131, 0.02856236, -0.0028439555, 0.0042169983, -0.03242458, 0.00303849, -0.057654705, 0.02423337, -0.0032900323, 0.04589558, -0.069965884, -0.012252046, -0.023519108, 0.007084148, 0.033548057, 0.04835306, -0.05049812, -0.06282992, -0.005238529, -0.054981418, -0.0058446764, 0.0120182885, 0.07750396, 0.02690897, 0.014519642, 0.07710516, -0.015617687, -0.01662778, -0.009140698, 0.0007583091, 0.03937595, -0.013710958, 0.088423364, -0.047866147, -0.064286545, 0.02542518, -0.0446706, 0.018539453, -0.003135748, -0.022546418, 0.02643066, 0.024337051, -0.012585706, 0.0051650493, 0.052590325, -0.04712884, 0.022993192, 0.016701974, -0.027585989, -0.044133857, -0.038127236, -0.04360304, 0.030372882, 0.051768925, 0.026482776, -0.01026904, 0.03196097, 0.012324574, 0.04769569, -0.04960833, 0.0374812, 0.0857381, 0.025265979, 0.01609655, 0.003300546, -0.0007298612, 0.0822332, -0.011997758, 0.04061558, 0.03270263, -0.023226298, -0.021925027, 0.020724691, -0.040132888, -0.01666463, -0.04635977, 0.0012619464, 0.00472434, 0.017481405, -0.059227128, -0.02881361, -0.03263208, -0.0058013843, -0.03999757, -0.0040870765, 0.0603749, 0.06253196, -0.0691428, -0.014308631, -0.034913786, 0.05456497, 0.0066430434, -0.011645062, 0.014233678, -0.008500018, -0.0040596193, -0.035033908, -0.028506353, -0.025095148, -0.018501723, -0.002296448, -0.031410977, -0.024161026, 0.054758366, 0.03898842, -0.03776033, 0.011164298, -0.025406554, -0.018783718, -0.054753106, 0.0233879, -0.007976666, -0.017842777, -0.048541985, 0.009032196, -0.01907529, 0.020320524, 0.024357093, -0.06997886, -0.001130535, 0.037207685, -0.060851693, 0.024080962, -0.06816535, -0.01607011, -0.081448466, -0.0058048214, -0.018792529, -0.0046164263, -0.046198867, 0.034407303, 0.035399135, -0.0032770298, 0.0051192995, -0.027613524, 0.018079232, -0.00018300446, -0.086883076, -0.00056897965, -0.023276938, 0.033294465, -0.031327277, 0.10819192, 0.04177641, 0.01856008, -0.056144997, 0.008731156, 0.027597874, -0.03440498, -0.024955353, -0.050545163, 0.024709225, -0.032039467, -0.028057417, 0.023743186, -0.02682483, 0.0706979, 0.026865143, -0.015615366, -0.007658055, -0.005490388, -0.054315977, 0.0076922267, 0.05001364, -0.045008954, 0.012144329, -0.035389144, -0.030934995, 0.0011777285, 0.030575821, -0.0066811093, 0.062355723, 0.009791575, -0.021816662, -0.023413464, 0.013205602, 0.0453172, -0.020043256, 0.05427095, 0.024100222, -0.0033587443, 0.008815623, -0.0041434923, 0.0023407089, 0.0064176745, 0.0022821843, -0.004782857, 0.019507565, 0.022253461, -0.025151724, -0.05324672, 0.042200368, 0.01528173, -0.0131821865, 0.037266612, -0.030736655, -0.10716889, 0.0073626856, 0.029588934, -0.074779786, 0.036387507, 0.019386858, -0.011279954, 0.019908678, -0.012200737, 0.03960865, -0.074355125, 0.023037247, -0.011191855, -0.013275913, -0.010906008, 0.035585694, 0.0692292, -0.030198596, 0.015174789, -0.038350165, -0.04851431, 0.043358203, -0.022289725, 0.007887536, 0.023147114, -0.067921355, -0.018841831, -0.005986108, -0.044798825, -0.06708004, 0.02388298, -0.048147455, 0.008362705, -0.076518215, -0.013534413, 0.0102599785, 0.01879205, 0.0055783833, -0.042202163, -0.049576133, -0.0050857295, -0.012531982, 0.069338515, 0.01913169, -0.020731946, -0.06178118, 0.032852493, -0.05251209, -0.004282178, -0.00813271, 0.03086404, -0.0020081366, 0.021165278, 0.017300913, -0.0341096, 0.023744822, 0.010978584, 0.003502104, 0.045977116, -0.04005761, -0.01069201, 0.009648475, 0.025230048, 0.013888417, 0.04993287, 0.023668548, 0.026160419, -0.04197098, -0.032833546, 0.0784921, -0.07428445, 0.040620346, 0.024243588, -0.016387727, -0.0048376457, -0.019135373, 0.0484596, 0.02694664, 0.034452673, -0.030315999, 0.050694283, -0.011875941, 0.060839158, 0.027354762, 0.032612536, -0.024632748, -0.00695706, 0.007726397, 0.007519573, -0.00090183946, 0.018177174, -0.0481357, 0.00074283115, -0.017195407, 0.04803856, -0.030395271, -0.02495738, -0.062189195, 0.016506432, 0.006140401, 0.005615554, -0.024930477, 0.07234204, 0.022184268, 0.00840693, 0.0043729222, 0.050160777, 0.004916049, 0.062054943, 0.09744361, -0.007062753, 0.015127002, -0.026652914, -0.006163752, -0.014229829, -0.039636232, -0.045097154, 0.0026227874, -0.10093764, 0.036425643, 0.0048349523, -0.019238945, -0.013592405, 0.09232698, 0.0024211563, -0.028698731, -0.04332353, 0.008797923, -0.03666974, 0.0059026126, 0.069151856, 0.023653772, 0.04396503, -0.035057705, -0.012442219, -0.055496965, 0.014523771, 0.020280702, -0.06429925, 0.0008017851, 0.007940283, 0.0017629132, -0.04503167, -0.010409349, -0.037136696, -0.021080595, -0.044683713, 0.04170359, -0.07676056, 0.013945284, 0.06719899, -0.029336404, 0.01430764, 0.029316066, -0.02232816, 0.009707659, 0.030375013, -0.00950787, -0.03258361, -0.005416511, 0.027836205, 0.026972568, 0.057025217, 0.020234661, 0.049047194, -0.0091659725, -0.03467465, -0.031883977, -0.008079098, -0.0095661115, -0.013820853, 0.015131717, 0.052247692, -0.01077352, 0.035560254, 0.0008749919, -0.0064092716, 0.020012945, -0.015576248, -0.036088184, 0.046647564, -0.034822565, 0.0012140013, 0.04064357, 0.021104066, -0.0045876703, 0.013006723, 0.028964432, 0.01812534, -0.03419031, -0.07916985, 0.047363427, -0.014366228, -0.021942968, 0.042454407, -0.014389062, -0.046319317, 0.0130377095, 0.054555148, -0.014708813, 0.04946149, -0.068418905, -0.0034959253, 0.025277065, -0.011126255, 0.0072920234, 0.002548364, 0.015056745, 0.10727854, -0.013613034, -0.029012593, 0.034970026, 0.008582708, 0.09874758, -0.024125377, 0.051137667, -0.05246473, -0.052905466, -0.018041883, -0.04181656, 0.0037006168, 0.07204151, 0.0014541795, -0.0482861, -0.036211397, -0.032734603, 0.023963109, -0.0082936445, -0.025231276, 0.059497878, -0.030430084, 0.09295443, 0.058291074, -0.043817673, -0.0012753769, -0.019656619, 0.049764283, 0.046906553, -0.026337381, -0.03157493, -0.009924565, 0.034890182, 0.03649447, 0.027618136, -0.010044234, -0.016109481]}\n"
     ]
    }
   ],
   "source": [
    "query = \"Can you help me understand the growth of the company in the last year? give me a table of result\"\n",
    "model = 'models/embedding-001'\n",
    "\n",
    "request = genai.embed_content(\n",
    "            model=model,\n",
    "            content=query,\n",
    "            task_type=\"retrieval_query\"\n",
    "        )\n",
    "print(request)"
   ]
  },
  {
   "cell_type": "code",
   "execution_count": 39,
   "metadata": {},
   "outputs": [],
   "source": [
    "def find_best_passage(query, dataframe):\n",
    "    \"\"\"\n",
    "    Compute the distances between the query and each document in the dataframe\n",
    "    using the dot product.\n",
    "    \"\"\"\n",
    "    query_embedding = genai.embed_content(model=model,\n",
    "                            content=query,\n",
    "                            task_type=\"retrieval_query\")\n",
    "    dot_products = np.dot(np.stack(dataframe['Embeddings']), query_embedding[\"embedding\"])\n",
    "    idx = np.argmax(dot_products)\n",
    "    return dataframe.iloc[idx]['Text'] # Return text from index with max value"
   ]
  },
  {
   "cell_type": "code",
   "execution_count": 40,
   "metadata": {},
   "outputs": [
    {
     "data": {
      "text/plain": [
       "'We  monitor  our  foreign  currency  exposures  daily  to  maximize  the  economic  effectiveness  of  our  foreign  currency  positions,  including  hedges   Principal currency exposures include the Euro, Japanese yen, British pound, Canadian dollar, and Australian dollar     Interest Rate    Securities  held  in  our  fixed-income  portfolio  are  subject  to  different  interest  rate  risks  based  on  their  maturities   We  manage  the  average  maturity  of  the  fixed-income  portfolio  to  achieve  economic  returns  that  correlate  to  certain  global  fixed-income indices     Credit    Our  fixed-income  portfolio  is  diversified  and  consists  primarily  of  investment-grade  securities   We  manage  credit  exposures relative to broad-based indices and to facilitate portfolio diversification     Equity    Securities held in our equity investments portfolio are subject to price risk     SENSITIVITY ANALYSIS    The following table sets forth the potential loss in future earnings or fair values, including associated derivatives, resulting  from hypothetical changes in relevant market rates or prices:    (In millions)   Risk Categories   Foreign currency – Revenue  Foreign currency – Investments  Interest rate   Credit  Equity   Hypothetical Change   10% decrease in foreign exchange rates  10% decrease in foreign exchange rates  100 basis point increase in U S  treasury   interest rates   100 basis point increase in credit spreads  10% decrease in equity market prices   June 30,  2022   Impact   $   (6,822)  Earnings   (94)  Fair Value   (2,536)  Fair Value  (350)  Fair Value  (637)  Earnings   46                                                        \\x0cFINANCIAL STATEMENTS AND SUPPLEMENTARY DATA    INCOME STATEMENTS    (In millions, except per share amounts)   Year Ended June 30,   Revenue:  Product  Service and other   Total revenue   Cost of revenue:   Product  Service and other   Total cost of revenue   Gross margin   Research and development  Sales and marketing  General and administrative   Operating income  Other income, net   Income before income taxes  Provision for income taxes   Net income   Earnings per share:   Basic  Diluted   Weighted average shares outstanding:   Basic  Diluted   Refer to accompanying notes'"
      ]
     },
     "execution_count": 40,
     "metadata": {},
     "output_type": "execute_result"
    }
   ],
   "source": [
    "passage = find_best_passage(query, df)\n",
    "passage"
   ]
  },
  {
   "cell_type": "code",
   "execution_count": 41,
   "metadata": {},
   "outputs": [],
   "source": [
    "def make_prompt(query, relevant_passage):\n",
    "    escaped = relevant_passage.replace(\"'\", \"\").replace('\"', \"\").replace(\"\\n\", \" \")\n",
    "    prompt = textwrap.dedent(\"\"\"You are a helpful and informative bot that answers \\\n",
    "    questions using text from the reference passage included below. \\\n",
    "    Be sure to respond in a complete sentence, being comprehensive, \\\n",
    "    including all relevant background information. \\\n",
    "    However, you are talking to a non-technical audience, \\\n",
    "    so be sure to break down complicated concepts and \\\n",
    "    strike a friendly and converstional tone. \\\n",
    "    If the passage is irrelevant to the answer, you may ignore it.\n",
    "    QUESTION: '{query}'\n",
    "    PASSAGE: '{relevant_passage}'\n",
    "    ANSWER:\n",
    "    \"\"\").format(query=query, relevant_passage=escaped)\n",
    "\n",
    "    return prompt"
   ]
  },
  {
   "cell_type": "code",
   "execution_count": 42,
   "metadata": {},
   "outputs": [
    {
     "name": "stdout",
     "output_type": "stream",
     "text": [
      "You are a helpful and informative bot that answers     questions using text from the reference passage included below.     Be sure to respond in a complete sentence, being comprehensive,     including all relevant background information.     However, you are talking to a non-technical audience,     so be sure to break down complicated concepts and     strike a friendly and converstional tone.     If the passage is irrelevant to the answer, you may ignore it.\n",
      "    QUESTION: 'Can you help me understand the growth of the company in the last year? give me a table of result'\n",
      "    PASSAGE: 'We  monitor  our  foreign  currency  exposures  daily  to  maximize  the  economic  effectiveness  of  our  foreign  currency  positions,  including  hedges   Principal currency exposures include the Euro, Japanese yen, British pound, Canadian dollar, and Australian dollar     Interest Rate    Securities  held  in  our  fixed-income  portfolio  are  subject  to  different  interest  rate  risks  based  on  their  maturities   We  manage  the  average  maturity  of  the  fixed-income  portfolio  to  achieve  economic  returns  that  correlate  to  certain  global  fixed-income indices     Credit    Our  fixed-income  portfolio  is  diversified  and  consists  primarily  of  investment-grade  securities   We  manage  credit  exposures relative to broad-based indices and to facilitate portfolio diversification     Equity    Securities held in our equity investments portfolio are subject to price risk     SENSITIVITY ANALYSIS    The following table sets forth the potential loss in future earnings or fair values, including associated derivatives, resulting  from hypothetical changes in relevant market rates or prices:    (In millions)   Risk Categories   Foreign currency – Revenue  Foreign currency – Investments  Interest rate   Credit  Equity   Hypothetical Change   10% decrease in foreign exchange rates  10% decrease in foreign exchange rates  100 basis point increase in U S  treasury   interest rates   100 basis point increase in credit spreads  10% decrease in equity market prices   June 30,  2022   Impact   $   (6,822)  Earnings   (94)  Fair Value   (2,536)  Fair Value  (350)  Fair Value  (637)  Earnings   46                                                        \fFINANCIAL STATEMENTS AND SUPPLEMENTARY DATA    INCOME STATEMENTS    (In millions, except per share amounts)   Year Ended June 30,   Revenue:  Product  Service and other   Total revenue   Cost of revenue:   Product  Service and other   Total cost of revenue   Gross margin   Research and development  Sales and marketing  General and administrative   Operating income  Other income, net   Income before income taxes  Provision for income taxes   Net income   Earnings per share:   Basic  Diluted   Weighted average shares outstanding:   Basic  Diluted   Refer to accompanying notes'\n",
      "    ANSWER:\n",
      "\n"
     ]
    }
   ],
   "source": [
    "prompt = make_prompt(query, passage)\n",
    "print(prompt)"
   ]
  },
  {
   "cell_type": "code",
   "execution_count": 43,
   "metadata": {},
   "outputs": [],
   "source": [
    "\n",
    "# for m in genai.list_models():\n",
    "#     if 'generateContent' in m.supported_generation_methods:\n",
    "#         print(m.name)"
   ]
  },
  {
   "cell_type": "code",
   "execution_count": 44,
   "metadata": {},
   "outputs": [
    {
     "data": {
      "text/markdown": [
       "The passage you provided does not contain information about the company's growth over the past year.  It focuses on the company's risk management strategies and its sensitivity to market changes. Therefore, I cannot provide a table of results for the company's growth in the last year. \n"
      ],
      "text/plain": [
       "<IPython.core.display.Markdown object>"
      ]
     },
     "execution_count": 44,
     "metadata": {},
     "output_type": "execute_result"
    }
   ],
   "source": [
    "model = genai.GenerativeModel('models/gemini-1.5-flash-latest')\n",
    "answer = model.generate_content(prompt)\n",
    "Markdown(answer.text)"
   ]
  },
  {
   "cell_type": "code",
   "execution_count": null,
   "metadata": {},
   "outputs": [],
   "source": []
  },
  {
   "cell_type": "code",
   "execution_count": null,
   "metadata": {},
   "outputs": [],
   "source": []
  }
 ],
 "metadata": {
  "kernelspec": {
   "display_name": "base",
   "language": "python",
   "name": "python3"
  },
  "language_info": {
   "codemirror_mode": {
    "name": "ipython",
    "version": 3
   },
   "file_extension": ".py",
   "mimetype": "text/x-python",
   "name": "python",
   "nbconvert_exporter": "python",
   "pygments_lexer": "ipython3",
   "version": "3.12.2"
  }
 },
 "nbformat": 4,
 "nbformat_minor": 2
}
